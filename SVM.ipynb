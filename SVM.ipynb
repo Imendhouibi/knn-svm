{
 "cells": [
  {
   "cell_type": "code",
   "execution_count": 6,
   "id": "hired-cedar",
   "metadata": {},
   "outputs": [
    {
     "name": "stdout",
     "output_type": "stream",
     "text": [
      "--------------------\n",
      "['female']\n",
      "--------------------\n"
     ]
    }
   ],
   "source": [
    "#  (SVM) : \n",
    "\n",
    "# Importing the libraries\n",
    "import numpy as np\n",
    "import pandas as pd\n",
    "\n",
    "# Importing the dataset\n",
    "dataset = pd.read_csv('voice.csv')\n",
    "X = dataset.drop('label',axis=1).values\n",
    "y = dataset['label'].values\n",
    "# prediction du sexe selon les caractéristiques du voix \n",
    "# X sont les caractéristiques Y est le sexe \n",
    "\n",
    "\n",
    "from sklearn.model_selection import train_test_split\n",
    "X_train, X_test, y_train, y_test = train_test_split(X, y, test_size = 0.25, random_state = 5)\n",
    "#phase apprentissage et test ,25% test ,pas 5\n",
    "\n",
    "from sklearn.preprocessing import StandardScaler\n",
    "sc = StandardScaler()\n",
    "X_train = sc.fit_transform(X_train)\n",
    "X_test = sc.transform(X_test)\n",
    "\n",
    "\n",
    "from sklearn.svm import SVC\n",
    "classifier = SVC(kernel = 'linear', random_state = 0)\n",
    "classifier.fit(X_train, y_train)\n",
    "#phase apprentissage SVM\n",
    "\n",
    "# Prediction\n",
    "y_pred = classifier.predict(X_test)\n",
    "\n",
    "print(\"--------------------\")\n",
    "pr = classifier.predict([[0.1,0.6,0.05,0.01,0.093,0.001,0.7,0.8,12,20,13,15,0.3,0.6,0.7,0.8,0.7,18,19,13]])\n",
    "print(pr)\n",
    "print(\"--------------------\")\n",
    "\n",
    "\n",
    "\n",
    "\n",
    "\n",
    "\n",
    "\n",
    "\n"
   ]
  },
  {
   "cell_type": "code",
   "execution_count": null,
   "id": "treated-andorra",
   "metadata": {},
   "outputs": [],
   "source": []
  }
 ],
 "metadata": {
  "kernelspec": {
   "display_name": "Python 3",
   "language": "python",
   "name": "python3"
  },
  "language_info": {
   "codemirror_mode": {
    "name": "ipython",
    "version": 3
   },
   "file_extension": ".py",
   "mimetype": "text/x-python",
   "name": "python",
   "nbconvert_exporter": "python",
   "pygments_lexer": "ipython3",
   "version": "3.7.3"
  }
 },
 "nbformat": 4,
 "nbformat_minor": 5
}
