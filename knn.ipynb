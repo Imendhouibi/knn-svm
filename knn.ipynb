{
 "cells": [
  {
   "cell_type": "code",
   "execution_count": 7,
   "id": "finite-stations",
   "metadata": {},
   "outputs": [
    {
     "name": "stdout",
     "output_type": "stream",
     "text": [
      "------------------\n",
      "the quality of this wine is :  [5]\n",
      "thi quality of this wine is :  [6]\n",
      "------------------\n"
     ]
    }
   ],
   "source": [
    "\n",
    "import numpy as np\n",
    "import pandas as pd\n",
    "\n",
    "\n",
    "\n",
    "df = pd.read_csv('winequality-red.csv')\n",
    "\n",
    "X = df.drop('quality',axis=1).values\n",
    "y = df['quality'].values\n",
    "#tous donnés sont les X bienque quality est y càd la valeur qu'on cherche\n",
    "\n",
    "\n",
    "from sklearn.model_selection import train_test_split\n",
    "X_train,X_test,y_train,y_test = train_test_split(X,y,test_size=0.4,random_state=12, stratify=y)\n",
    "#phase apprentissage et test , test 40% , pas 12\n",
    "\n",
    "\n",
    "\n",
    "from sklearn.neighbors import KNeighborsClassifier\n",
    "\n",
    "knn = KNeighborsClassifier(n_neighbors=7)\n",
    "#le choix du nombre des neighbors est aléatoire\n",
    "\n",
    "\n",
    "knn.fit(X_train,y_train)\n",
    "#fit pour chercher la meilleur solution\n",
    "\n",
    "\n",
    "print(\"------------------\")\n",
    "#   phase prediction\n",
    "y_pred = knn.predict([[7.4,0.2,0.1,1.3,0.053,12,35,0.1,4,0.6,9.5]])\n",
    "print(\"the quality of this wine is : \",y_pred )\n",
    "y_pred2 = knn.predict([[9,0.3,0.02,5,0.1,7,30,1,4,0.6,10]])\n",
    "print(\"thi quality of this wine is : \",y_pred2 )\n",
    "print(\"------------------\")"
   ]
  },
  {
   "cell_type": "code",
   "execution_count": null,
   "id": "chicken-wright",
   "metadata": {},
   "outputs": [],
   "source": []
  }
 ],
 "metadata": {
  "kernelspec": {
   "display_name": "Python 3",
   "language": "python",
   "name": "python3"
  },
  "language_info": {
   "codemirror_mode": {
    "name": "ipython",
    "version": 3
   },
   "file_extension": ".py",
   "mimetype": "text/x-python",
   "name": "python",
   "nbconvert_exporter": "python",
   "pygments_lexer": "ipython3",
   "version": "3.7.3"
  }
 },
 "nbformat": 4,
 "nbformat_minor": 5
}
